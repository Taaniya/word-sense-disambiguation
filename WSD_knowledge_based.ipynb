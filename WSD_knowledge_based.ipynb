{
  "nbformat": 4,
  "nbformat_minor": 0,
  "metadata": {
    "colab": {
      "name": "WSD_knowledge_based.ipynb",
      "provenance": [],
      "collapsed_sections": [],
      "authorship_tag": "ABX9TyPf1AQaLkT0Fiw0LQqPGM2B",
      "include_colab_link": true
    },
    "kernelspec": {
      "name": "python3",
      "display_name": "Python 3"
    },
    "language_info": {
      "name": "python"
    }
  },
  "cells": [
    {
      "cell_type": "markdown",
      "metadata": {
        "id": "view-in-github",
        "colab_type": "text"
      },
      "source": [
        "<a href=\"https://colab.research.google.com/github/Taaniya/word-sense-disambiguation/blob/main/WSD_knowledge_based.ipynb\" target=\"_parent\"><img src=\"https://colab.research.google.com/assets/colab-badge.svg\" alt=\"Open In Colab\"/></a>"
      ]
    },
    {
      "cell_type": "markdown",
      "metadata": {
        "id": "t1bU_hQOsa8Z"
      },
      "source": [
        "### Knowledge based approaches"
      ]
    },
    {
      "cell_type": "markdown",
      "metadata": {
        "id": "62OmZGpYjHee"
      },
      "source": [
        "### Lesk algorithm -\n",
        "\n",
        "Variants - \n",
        "\n",
        "All variants are based on base logic to find the count of overlaps between the information about the target word (ambiguous) and that of its context words.\n",
        "\n",
        "The information is treated as bag of words for both target and context.\n",
        "\n",
        "1. Lesk algorithm - \n",
        "\n",
        "Sense Bag: contains the words in the definition of a candidate sense of the\n",
        "ambiguous word.\n",
        "Context Bag: contains the words in the definition of each sense of each context\n",
        "word.\n",
        "\n",
        "2. Extended Lesk -\n",
        "This, in addition to each sense of the context words, it also includes glosses of semantically related senses from WordNet (e.g. hypernyms, hyponyms, etc.) related to the target word. \n",
        "\n",
        "3. Simplified Lesk chooses sense\twith\tmost\tword\toverlap\tbetween\tgloss\tand\tcontext (not counting [function words](https://en.wikipedia.org/wiki/Function_word))\n"
      ]
    },
    {
      "cell_type": "code",
      "metadata": {
        "id": "xjYJOC_WjNd-"
      },
      "source": [
        "! pip install -U nltk\n",
        "! python -m nltk.downloader 'popular'\n",
        "! pip install wn==0.0.23                            # Use lower version to avoid import errors\n",
        "! pip install -U pywsd"
      ],
      "execution_count": null,
      "outputs": []
    },
    {
      "cell_type": "code",
      "metadata": {
        "id": "aiSOx-mevcB_"
      },
      "source": [
        "import nltk\n",
        "from pywsd.lesk import simple_lesk"
      ],
      "execution_count": 4,
      "outputs": []
    },
    {
      "cell_type": "code",
      "metadata": {
        "colab": {
          "base_uri": "https://localhost:8080/"
        },
        "id": "ZayBFP3xyvto",
        "outputId": "8ad88c9b-85e1-4b16-d1a2-db6ee6c68440"
      },
      "source": [
        "sent = 'I went to the bank to deposit my money'\n",
        "ambiguous = 'bank'\n",
        "tokens = nltk.word_tokenize(sent)\n",
        "res_synset = simple_lesk(sent, ambiguous_word=ambiguous, pos='n')\n",
        "\n",
        "\n",
        "print(\"Parts of Speech :{}\".format(nltk.pos_tag(tokens)))\n",
        "print(\"\\nSynset of estimated best sense- \\n{}\".format(res_synset))\n",
        "print(\"\\nResulting Synset's definition- \\n{}\".format(res_synset.definition()))"
      ],
      "execution_count": 19,
      "outputs": [
        {
          "output_type": "stream",
          "text": [
            "Parts of Speech :[('I', 'PRP'), ('went', 'VBD'), ('to', 'TO'), ('the', 'DT'), ('bank', 'NN'), ('to', 'TO'), ('deposit', 'VB'), ('my', 'PRP$'), ('money', 'NN')]\n",
            "\n",
            "Synset of estimated best sense- \n",
            "Synset('depository_financial_institution.n.01')\n",
            "\n",
            "Resulting Synset's definition- \n",
            "a financial institution that accepts deposits and channels the money into lending activities\n"
          ],
          "name": "stdout"
        }
      ]
    },
    {
      "cell_type": "markdown",
      "metadata": {
        "id": "kuaaM1KC0kFg"
      },
      "source": [
        "#### References\n",
        "* https://github.com/alvations/pywsd\n",
        "* http://www.iro.umontreal.ca/~felipe/Papers/paper-lrec-2004.pdf \n",
        "* https://web.stanford.edu/~jurafsky/slp3/slides/Chapter18.wsd.pdf\n",
        "* https://www.cse.iitb.ac.in/~pb/cs626-2013/cs626-lect27to31-wsd-2013-9-23.pdf\n"
      ]
    }
  ]
}